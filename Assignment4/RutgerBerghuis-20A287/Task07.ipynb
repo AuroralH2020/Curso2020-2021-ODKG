{
  "nbformat": 4,
  "nbformat_minor": 0,
  "metadata": {
    "colab": {
      "name": "Task07.ipynb",
      "provenance": [],
      "collapsed_sections": []
    },
    "kernelspec": {
      "name": "python3",
      "display_name": "Python 3"
    }
  },
  "cells": [
    {
      "cell_type": "markdown",
      "metadata": {
        "id": "nOOPLCHF7hLB"
      },
      "source": [
        "**Task 07: Querying RDF(s)**"
      ]
    },
    {
      "cell_type": "code",
      "metadata": {
        "id": "Yl9npCt8n6m-",
        "outputId": "6d822313-d102-4c4a-9c9d-57b94dadcad0",
        "colab": {
          "base_uri": "https://localhost:8080/",
          "height": 187
        }
      },
      "source": [
        "!pip install rdflib \n",
        "github_storage = \"https://raw.githubusercontent.com/FacultadInformatica-LinkedData/Curso2020-2021/master/Assignment4\""
      ],
      "execution_count": null,
      "outputs": [
        {
          "output_type": "stream",
          "text": [
            "Collecting rdflib\n",
            "\u001b[?25l  Downloading https://files.pythonhosted.org/packages/d0/6b/6454aa1db753c0f8bc265a5bd5c10b5721a4bb24160fb4faf758cf6be8a1/rdflib-5.0.0-py3-none-any.whl (231kB)\n",
            "\r\u001b[K     |█▍                              | 10kB 13.5MB/s eta 0:00:01\r\u001b[K     |██▉                             | 20kB 2.3MB/s eta 0:00:01\r\u001b[K     |████▎                           | 30kB 2.7MB/s eta 0:00:01\r\u001b[K     |█████▊                          | 40kB 3.0MB/s eta 0:00:01\r\u001b[K     |███████                         | 51kB 3.1MB/s eta 0:00:01\r\u001b[K     |████████▌                       | 61kB 3.4MB/s eta 0:00:01\r\u001b[K     |██████████                      | 71kB 3.7MB/s eta 0:00:01\r\u001b[K     |███████████▍                    | 81kB 3.6MB/s eta 0:00:01\r\u001b[K     |████████████▊                   | 92kB 3.7MB/s eta 0:00:01\r\u001b[K     |██████████████▏                 | 102kB 3.8MB/s eta 0:00:01\r\u001b[K     |███████████████▋                | 112kB 3.8MB/s eta 0:00:01\r\u001b[K     |█████████████████               | 122kB 3.8MB/s eta 0:00:01\r\u001b[K     |██████████████████▍             | 133kB 3.8MB/s eta 0:00:01\r\u001b[K     |███████████████████▉            | 143kB 3.8MB/s eta 0:00:01\r\u001b[K     |█████████████████████▎          | 153kB 3.8MB/s eta 0:00:01\r\u001b[K     |██████████████████████▊         | 163kB 3.8MB/s eta 0:00:01\r\u001b[K     |████████████████████████        | 174kB 3.8MB/s eta 0:00:01\r\u001b[K     |█████████████████████████▌      | 184kB 3.8MB/s eta 0:00:01\r\u001b[K     |███████████████████████████     | 194kB 3.8MB/s eta 0:00:01\r\u001b[K     |████████████████████████████▍   | 204kB 3.8MB/s eta 0:00:01\r\u001b[K     |█████████████████████████████▉  | 215kB 3.8MB/s eta 0:00:01\r\u001b[K     |███████████████████████████████▏| 225kB 3.8MB/s eta 0:00:01\r\u001b[K     |████████████████████████████████| 235kB 3.8MB/s \n",
            "\u001b[?25hRequirement already satisfied: pyparsing in /usr/local/lib/python3.6/dist-packages (from rdflib) (2.4.7)\n",
            "Collecting isodate\n",
            "\u001b[?25l  Downloading https://files.pythonhosted.org/packages/9b/9f/b36f7774ff5ea8e428fdcfc4bb332c39ee5b9362ddd3d40d9516a55221b2/isodate-0.6.0-py2.py3-none-any.whl (45kB)\n",
            "\u001b[K     |████████████████████████████████| 51kB 4.1MB/s \n",
            "\u001b[?25hRequirement already satisfied: six in /usr/local/lib/python3.6/dist-packages (from rdflib) (1.15.0)\n",
            "Installing collected packages: isodate, rdflib\n",
            "Successfully installed isodate-0.6.0 rdflib-5.0.0\n"
          ],
          "name": "stdout"
        }
      ]
    },
    {
      "cell_type": "markdown",
      "metadata": {
        "id": "XY7aPc86Bqoo"
      },
      "source": [
        "Read the RDF file"
      ]
    },
    {
      "cell_type": "code",
      "metadata": {
        "id": "9ERh415on7kF",
        "outputId": "8732b881-8766-44e5-be97-7bf0c264014a",
        "colab": {
          "base_uri": "https://localhost:8080/",
          "height": 34
        }
      },
      "source": [
        "from rdflib import Graph, Namespace, Literal\n",
        "from rdflib.namespace import RDF, RDFS\n",
        "g = Graph()\n",
        "g.namespace_manager.bind('ns', Namespace(\"http://somewhere#\"), override=False)\n",
        "g.namespace_manager.bind('vcard', Namespace(\"http://www.w3.org/2001/vcard-rdf/3.0#\"), override=False)\n",
        "g.parse(github_storage+\"/resources/example6.rdf\", format=\"xml\")"
      ],
      "execution_count": null,
      "outputs": [
        {
          "output_type": "execute_result",
          "data": {
            "text/plain": [
              "<Graph identifier=Nc61c6496c3794075a6763142b820a91e (<class 'rdflib.graph.Graph'>)>"
            ]
          },
          "metadata": {
            "tags": []
          },
          "execution_count": 4
        }
      ]
    },
    {
      "cell_type": "markdown",
      "metadata": {
        "id": "qp1oe2Eddsvo"
      },
      "source": [
        "**TASK 7.1: List all subclasses of \"Person\" with RDFLib and SPARQL**"
      ]
    },
    {
      "cell_type": "code",
      "metadata": {
        "id": "slEohSkcnAfc",
        "outputId": "66a994e8-2abf-487f-8a21-069c185b4ae6",
        "colab": {
          "base_uri": "https://localhost:8080/",
          "height": 34
        }
      },
      "source": [
        "from rdflib.plugins.sparql import prepareQuery\n",
        "\n",
        "\n",
        "ns = Namespace(\"http://somewhere#\")\n",
        "\n",
        "\n",
        "q1 = prepareQuery('''\n",
        "  SELECT DISTINCT\n",
        "    ?Subject\n",
        "  WHERE { \n",
        "    ?Subject RDFS:subClassOf ns:Person.\n",
        "  }\n",
        "  ''',\n",
        "  initNs = {\"RDFS\": RDFS, \"ns\": ns}\n",
        ")\n",
        "\n",
        "\n",
        "for r in g.query(q1):\n",
        "  print(r)"
      ],
      "execution_count": null,
      "outputs": [
        {
          "output_type": "stream",
          "text": [
            "(rdflib.term.URIRef('http://somewhere#Researcher'),)\n"
          ],
          "name": "stdout"
        }
      ]
    },
    {
      "cell_type": "markdown",
      "metadata": {
        "id": "gM3DASkTQQ5Y"
      },
      "source": [
        "**TASK 7.2: List all individuals of \"Person\" with RDFLib and SPARQL (remember the subClasses)**\n"
      ]
    },
    {
      "cell_type": "code",
      "metadata": {
        "id": "WfhUqLuGnA00",
        "outputId": "5a5f403a-59a4-4c02-91d2-3480e1102393",
        "colab": {
          "base_uri": "https://localhost:8080/",
          "height": 68
        }
      },
      "source": [
        "from rdflib.plugins.sparql import prepareQuery\n",
        "\n",
        "\n",
        "ns = Namespace(\"http://somewhere#\")\n",
        "\n",
        "\n",
        "q1 = prepareQuery('''\n",
        "  SELECT DISTINCT\n",
        "    ?Subject\n",
        "  WHERE { \n",
        "    {?Subject RDF:type ns:Person.}\n",
        "     UNION\n",
        "    {?Subject RDF:type ns:Researcher.} \n",
        "  }\n",
        "  ''',\n",
        "  initNs = {\"RDF\": RDF, \"ns\": ns}\n",
        ")\n",
        "\n",
        "\n",
        "for r in g.query(q1):\n",
        "  print(r)"
      ],
      "execution_count": null,
      "outputs": [
        {
          "output_type": "stream",
          "text": [
            "(rdflib.term.URIRef('http://somewhere#JohnSmith'),)\n",
            "(rdflib.term.URIRef('http://somewhere#SaraJones'),)\n",
            "(rdflib.term.URIRef('http://somewhere#JaneSmith'),)\n"
          ],
          "name": "stdout"
        }
      ]
    },
    {
      "cell_type": "markdown",
      "metadata": {
        "id": "MXBqtBkJd22I"
      },
      "source": [
        "**TASK 7.3: List all individuals of \"Person\" and all their properties including their class with RDFLib and SPARQL**\n"
      ]
    },
    {
      "cell_type": "code",
      "metadata": {
        "id": "OLsgcSv4nBFc",
        "outputId": "1315e403-d813-4b33-8bda-472cec85d19c",
        "colab": {
          "base_uri": "https://localhost:8080/",
          "height": 323
        }
      },
      "source": [
        "from rdflib.plugins.sparql import prepareQuery\n",
        "\n",
        "\n",
        "ns = Namespace(\"http://somewhere#\")\n",
        "\n",
        "\n",
        "q1 = prepareQuery('''\n",
        "  SELECT DISTINCT\n",
        "    ?Subject ?prop\n",
        "  WHERE { \n",
        "    {?Subject RDF:type ns:Person.}\n",
        "     UNION\n",
        "    {?Subject RDF:type ns:Researcher.}\n",
        "    ?subject ?prop ?values \n",
        "  }\n",
        "  ''',\n",
        "  initNs = {\"RDF\": RDF, \"ns\": ns}\n",
        ")\n",
        "\n",
        "\n",
        "for r in g.query(q1):\n",
        "  print(r)"
      ],
      "execution_count": null,
      "outputs": [
        {
          "output_type": "stream",
          "text": [
            "(rdflib.term.URIRef('http://somewhere#JohnSmith'), rdflib.term.URIRef('http://www.w3.org/1999/02/22-rdf-syntax-ns#type'))\n",
            "(rdflib.term.URIRef('http://somewhere#JohnSmith'), rdflib.term.URIRef('http://www.w3.org/2000/01/rdf-schema#range'))\n",
            "(rdflib.term.URIRef('http://somewhere#JohnSmith'), rdflib.term.URIRef('http://somewhere#http://www.w3.org/2001/vcard-rdf/3.0/Given'))\n",
            "(rdflib.term.URIRef('http://somewhere#JohnSmith'), rdflib.term.URIRef('http://somewhere#http://www.w3.org/2001/vcard-rdf/3.0/FN'))\n",
            "(rdflib.term.URIRef('http://somewhere#JohnSmith'), rdflib.term.URIRef('http://www.w3.org/2000/01/rdf-schema#subClassOf'))\n",
            "(rdflib.term.URIRef('http://somewhere#JohnSmith'), rdflib.term.URIRef('http://somewhere#http://www.w3.org/2001/vcard-rdf/3.0/Family'))\n",
            "(rdflib.term.URIRef('http://somewhere#SaraJones'), rdflib.term.URIRef('http://www.w3.org/1999/02/22-rdf-syntax-ns#type'))\n",
            "(rdflib.term.URIRef('http://somewhere#SaraJones'), rdflib.term.URIRef('http://www.w3.org/2000/01/rdf-schema#range'))\n",
            "(rdflib.term.URIRef('http://somewhere#SaraJones'), rdflib.term.URIRef('http://somewhere#http://www.w3.org/2001/vcard-rdf/3.0/Given'))\n",
            "(rdflib.term.URIRef('http://somewhere#SaraJones'), rdflib.term.URIRef('http://somewhere#http://www.w3.org/2001/vcard-rdf/3.0/FN'))\n",
            "(rdflib.term.URIRef('http://somewhere#SaraJones'), rdflib.term.URIRef('http://www.w3.org/2000/01/rdf-schema#subClassOf'))\n",
            "(rdflib.term.URIRef('http://somewhere#SaraJones'), rdflib.term.URIRef('http://somewhere#http://www.w3.org/2001/vcard-rdf/3.0/Family'))\n",
            "(rdflib.term.URIRef('http://somewhere#JaneSmith'), rdflib.term.URIRef('http://www.w3.org/1999/02/22-rdf-syntax-ns#type'))\n",
            "(rdflib.term.URIRef('http://somewhere#JaneSmith'), rdflib.term.URIRef('http://www.w3.org/2000/01/rdf-schema#range'))\n",
            "(rdflib.term.URIRef('http://somewhere#JaneSmith'), rdflib.term.URIRef('http://somewhere#http://www.w3.org/2001/vcard-rdf/3.0/Given'))\n",
            "(rdflib.term.URIRef('http://somewhere#JaneSmith'), rdflib.term.URIRef('http://somewhere#http://www.w3.org/2001/vcard-rdf/3.0/FN'))\n",
            "(rdflib.term.URIRef('http://somewhere#JaneSmith'), rdflib.term.URIRef('http://www.w3.org/2000/01/rdf-schema#subClassOf'))\n",
            "(rdflib.term.URIRef('http://somewhere#JaneSmith'), rdflib.term.URIRef('http://somewhere#http://www.w3.org/2001/vcard-rdf/3.0/Family'))\n"
          ],
          "name": "stdout"
        }
      ]
    }
  ]
}