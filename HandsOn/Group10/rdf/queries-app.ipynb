{
 "cells": [
  {
   "cell_type": "code",
   "execution_count": 9,
   "metadata": {},
   "outputs": [
    {
     "data": {
      "text/plain": [
       "<Graph identifier=N2733f7060534476d8160f9f89b1f7371 (<class 'rdflib.graph.Graph'>)>"
      ]
     },
     "execution_count": 9,
     "metadata": {},
     "output_type": "execute_result"
    }
   ],
   "source": [
    "from rdflib import Graph, Namespace, Literal\n",
    "from rdflib.namespace import RDF, RDFS\n",
    "g = Graph()\n",
    "g.parse(\"triples-vocabulary-with-links.nt\", format=\"ttl\")"
   ]
  },
  {
   "cell_type": "code",
   "execution_count": 10,
   "metadata": {},
   "outputs": [
    {
     "name": "stderr",
     "output_type": "stream",
     "text": [
      "IOPub data rate exceeded.\n",
      "The notebook server will temporarily stop sending output\n",
      "to the client in order to avoid crashing it.\n",
      "To change this limit, set the config variable\n",
      "`--NotebookApp.iopub_data_rate_limit`.\n",
      "\n",
      "Current values:\n",
      "NotebookApp.iopub_data_rate_limit=1000000.0 (bytes/sec)\n",
      "NotebookApp.rate_limit_window=3.0 (secs)\n",
      "\n",
      "C:\\Users\\Emilio\\anaconda3\\lib\\site-packages\\rdflib\\term.py:1276: UserWarning: Serializing weird numerical rdflib.term.Literal('', datatype=rdflib.term.URIRef('http://www.w3.org/2001/XMLSchema#double'))\n",
      "  warnings.warn(\"Serializing weird numerical %r\" % self)\n"
     ]
    }
   ],
   "source": [
    "print(g.serialize(format=\"ttl\").decode(\"UTF-8\"))"
   ]
  },
  {
   "cell_type": "code",
   "execution_count": 292,
   "metadata": {},
   "outputs": [],
   "source": [
    "#QUERY TO OBTAIN GASTOS OF EACH CENTRO\n",
    "\n",
    "from rdflib.plugins.sparql import prepareQuery\n",
    "\n",
    "#<http://group10.com/ontology/tieneCentro>\n",
    "\n",
    "Centros=[]   #Obtain a list with all centros, not necesary\n",
    "for r in g.query(query_all_elements): \n",
    "    if str(r.y) in Centros:\n",
    "        pass\n",
    "    else:\n",
    "        Centros.append(str(r.y))\n",
    "        \n",
    "\n",
    "from rdflib.plugins.sparql import prepareQuery\n",
    "query_all_elements = prepareQuery('''\n",
    "    SELECT DISTINCT ?z ?y\n",
    "    WHERE\n",
    "    {\n",
    "      ?x <http://www.w3.org/1999/02/22-rdf-syntax-ns#type> <http://group10.com/ontology/Gastos>.\n",
    "      ?x <http://group10.com/ontology/tieneCentro> ?y.\n",
    "      ?x <http://purl.org/cerif/frapo/hasCost> ?z\n",
    "    }\n",
    "  '''\n",
    ")\n",
    "\n",
    "Dict = {}\n",
    "#Calculation\n",
    "for r in g.query(query_all_elements):\n",
    "    if r.y in Dict:\n",
    "        Dict[str(r.y)] += float(r.z)\n",
    "    else:\n",
    "        Dict[str(r.y)] = float(r.z)\n",
    "            \n",
    "\n",
    "        \n",
    "        \n",
    "        \n",
    "        \n",
    "        \n",
    "        \n",
    "    \n",
    "        \n",
    "\n"
   ]
  },
  {
   "cell_type": "code",
   "execution_count": 73,
   "metadata": {},
   "outputs": [
    {
     "data": {
      "text/plain": [
       "{'Ayuntamiento de Madrid': 4625006.72,\n",
       " 'AGENCIA TRIBUTARIA  MADRID': 0.0,\n",
       " 'Madrid Salud': 77381295.75,\n",
       " 'INFORMATICA DEL AYUNTAMIENTO DE MADRID': 750.78,\n",
       " 'AGENCIA PARA EL EMPLEO DE MADRID': 9572.0,\n",
       " 'CONSOR. PLAN REHAB.EQUIP.TEATROS MADRID': 0.0,\n",
       " 'AGENCIA DE ACTIVIDADES': 13026497.5}"
      ]
     },
     "execution_count": 73,
     "metadata": {},
     "output_type": "execute_result"
    }
   ],
   "source": [
    "#Query to select the sum of all of the ingresos for each Centro\n",
    "\n",
    "from rdflib.plugins.sparql import prepareQuery\n",
    "\n",
    "#<http://group10.com/ontology/tieneCentro>\n",
    "\n",
    "Centros=[]   #Obtain a list with all centros, not necesary\n",
    "for r in g.query(query_all_elements): \n",
    "    if str(r.y) in Centros:\n",
    "        pass\n",
    "    else:\n",
    "        Centros.append(str(r.y))\n",
    "        \n",
    "\n",
    "from rdflib.plugins.sparql import prepareQuery\n",
    "query_all_elements = prepareQuery('''\n",
    "    SELECT DISTINCT ?z ?y\n",
    "    WHERE\n",
    "    {\n",
    "      ?x <http://www.w3.org/1999/02/22-rdf-syntax-ns#type> <http://group10.com/ontology/Ingresos>.\n",
    "      ?x <http://group10.com/ontology/tieneCentro> ?y.\n",
    "      ?x <http://purl.org/cerif/frapo/hasMonetaryValue> ?z\n",
    "    }\n",
    "  '''\n",
    ")\n",
    "\n",
    "Dict1 = {}\n",
    "#Calculation\n",
    "for r in g.query(query_all_elements):\n",
    "    if r.y in Dict1:\n",
    "        Dict1[str(r.y)] += float(r.z)\n",
    "    else:\n",
    "        Dict1[str(r.y)] = float(r.z)\n",
    "            \n",
    "Dict1"
   ]
  },
  {
   "cell_type": "code",
   "execution_count": 293,
   "metadata": {},
   "outputs": [
    {
     "data": {
      "text/plain": [
       "{'Tetuan': '40.460556,-3.7',\n",
       " 'Hortaleza': '40.469457,-3.640482',\n",
       " 'Latina': '40.402461111111,-3.7412944444444',\n",
       " 'Barajas': '40.470196,-3.58489',\n",
       " 'Salamanca': '40.43,-3.677778',\n",
       " 'Villaverde': '40.345925,-3.7093555555556',\n",
       " 'Fuencarral-El Pardo': '40.478611111111,-3.7097222222222',\n",
       " 'San Blas-Canillejas': '40.426001,-3.612764',\n",
       " 'Centro': '40.415347,-3.707371',\n",
       " 'Usera': '40.381336111111,-3.7068555555556',\n",
       " 'Vicalvaro': '40.4042,-3.60806',\n",
       " 'Moncloa-Aravaca': '40.435151,-3.718765',\n",
       " 'Chamartin': '40.453333333333,-3.6775',\n",
       " 'Ciudad Lineal': '40.45,-3.65',\n",
       " 'Carabanchel': '40.383669444444,-3.7279888888889',\n",
       " 'Arganzuela': '40.402733,-3.695403',\n",
       " 'Chamberi': '40.432791666667,-3.6971861111111',\n",
       " 'Retiro': '40.408072,-3.676729',\n",
       " 'Puente de Vallecas': '40.398204,-3.669059',\n",
       " 'Moratalaz': '40.409869444444,-3.6444361111111',\n",
       " 'Villa de Vallecas': '40.3796,-3.62135'}"
      ]
     },
     "execution_count": 293,
     "metadata": {},
     "output_type": "execute_result"
    }
   ],
   "source": [
    "##Query to select the sum of all of the gastos for each seccion that has a longitude and latitude (the districts)\n",
    "query_all_elements = prepareQuery('''\n",
    "     SELECT DISTINCT ?x ?y\n",
    "     WHERE\n",
    "{\n",
    "?x <http://group10.com/ontology/tieneCoordenadas> ?y\n",
    "\n",
    "}\n",
    "'''\n",
    ")\n",
    "\n",
    "Dict2 = {}\n",
    "path=\"http://group10.com/resource/Seccion/\"\n",
    "espacios=\"%20\"\n",
    "#Calculation\n",
    "for r in g.query(query_all_elements):\n",
    "    if str(r.y) in Distritos:\n",
    "        pass\n",
    "    if str(r.y) == \"\":\n",
    "        pass\n",
    "    else:\n",
    "        Dict2[str(r.x).replace(path,\"\").replace(espacios,\" \")] = str(r.y) ##Coordinates as strings\n",
    "Dict2"
   ]
  },
  {
   "cell_type": "code",
   "execution_count": 256,
   "metadata": {},
   "outputs": [
    {
     "data": {
      "text/plain": [
       "{'Chamartin': 21798923.919999998,\n",
       " 'Moratalaz': 25235086.71999999,\n",
       " 'Centro': 27167415.669999998,\n",
       " 'Villaverde': 39744428.55000001,\n",
       " 'Fuencarral-El Pardo': 39202597.57,\n",
       " 'Salamanca': 19000925.959999993,\n",
       " 'San Blas-Canillejas': 32585893.23,\n",
       " 'Tetuan': 28925786.59,\n",
       " 'Puente de Vallecas': 57943993.36000001,\n",
       " 'Chamberi': 16950983.759999994,\n",
       " 'Hortaleza': 28129699.189999986,\n",
       " 'Usera': 38228388.92,\n",
       " 'Arganzuela': 25282420.95000001,\n",
       " 'Ciudad Lineal': 35358711.88999999,\n",
       " 'Vicalvaro': 23636289.110000007,\n",
       " 'Latina': 51224555.57999998,\n",
       " 'Carabanchel': 42754393.070000015,\n",
       " 'Villa de Vallecas': 20845041.01,\n",
       " 'Barajas': 14372939.199999997,\n",
       " 'Moncloa-Aravaca': 32060067.09999999,\n",
       " 'Retiro': 21204803.259999998}"
      ]
     },
     "execution_count": 256,
     "metadata": {},
     "output_type": "execute_result"
    }
   ],
   "source": [
    "##Query to select the sum of all of the gastos for each seccion that has a longitude and latitude (the districts)\n",
    "query_all_elements1 = prepareQuery('''\n",
    "    SELECT DISTINCT ?x ?z ?y\n",
    "    WHERE\n",
    "    {\n",
    "      ?x <http://purl.org/cerif/frapo/hasCost> ?z.\n",
    "      ?x <http://group10.com/ontology/tieneSeccion> ?y.\n",
    "    }\n",
    "  '''\n",
    "\n",
    ")\n",
    "query_all_elements2 = prepareQuery('''\n",
    "     SELECT DISTINCT ?x ?y\n",
    "     WHERE\n",
    "{\n",
    "?x <http://group10.com/ontology/tieneCoordenadas> ?y.\n",
    "\n",
    "}\n",
    "'''\n",
    ")                                 \n",
    "\n",
    "DistritosCoordenada=[]\n",
    "for r in g.query(query_all_elements2):\n",
    "    if str(r.y)==\"\":\n",
    "        pass\n",
    "    else:\n",
    "        DistritosCoordenada.append(str(r.x).replace(path,\"\").replace(\"%20\",\" \"))\n",
    "        \n",
    "Dict3={}\n",
    "for r in g.query(query_all_elements1):\n",
    "    for s in DistritosCoordenada:\n",
    "        if(str(r.y)==s):\n",
    "            if str(r.y) in Dict3:\n",
    "                Dict3[str(r.y)] += float(r.z)\n",
    "            else:\n",
    "                Dict3[str(r.y)] = float(r.z)\n",
    "Dict3"
   ]
  },
  {
   "cell_type": "code",
   "execution_count": 289,
   "metadata": {},
   "outputs": [
    {
     "data": {
      "text/plain": [
       "{'A.D. INTERNACIONALIZACION Y COOPERACION': 8219117.93,\n",
       " 'MEDIO AMBIENTE Y MOVILIDAD': 1212095312.1399999,\n",
       " 'HACIENDA Y PERSONAL': 304846562.7000002,\n",
       " 'COORD. TERRITORIAL Y COOP. PUBLICO-SOCIAL': 31765764.919999998,\n",
       " 'AREA DELEGADA VIVIENDA': 48511984.32,\n",
       " 'TRIBUNAL ECONOMICO-ADMINISTRATIVO': 2899068.75,\n",
       " 'VICEALCALDIA': 1683532.8600000003,\n",
       " 'COORDINACION GENERAL DE LA ALCALDIA': 54864476.69000001,\n",
       " 'GERENCIA DE LA CIUDAD': 206079584.37000006,\n",
       " 'planeamiento urbanistico': 479456088.6400001,\n",
       " 'OBRAS Y EQUIPAMIENTOS': 273750006.61999995,\n",
       " 'POLITICAS DE GENERO Y DIVERSIDAD': 12025338.319999997,\n",
       " 'AREA DELEGADA DEPORTE': 20958922.439999998,\n",
       " 'PRESIDENCIA DEL PLENO': 16699015.180000002,\n",
       " 'ALCALDIA': 907005.37,\n",
       " 'AREA DELEGADA TURISMO': 4009673.0300000003,\n",
       " 'OF. MPAL. CONTRA FRAUDE Y CORRUPCION': 277901.85,\n",
       " 'ENDEUDAMIENTO': 611927513.4,\n",
       " 'CREDITOS GLOBALES Y FONDO CONTINGENCIA': 0.0}"
      ]
     },
     "execution_count": 289,
     "metadata": {},
     "output_type": "execute_result"
    }
   ],
   "source": [
    "#Query to select the sum of \n",
    "##all the gastos for each seccion that does not have a longitude or latitude and sum them (so one sum of all)\n",
    "\n",
    "query_all_elements1 = prepareQuery('''\n",
    "    SELECT DISTINCT ?x ?z ?y\n",
    "    WHERE\n",
    "    {\n",
    "      ?x <http://purl.org/cerif/frapo/hasCost> ?z.\n",
    "      ?x <http://group10.com/ontology/tieneSeccion> ?y.\n",
    "    }\n",
    "  '''\n",
    "\n",
    ")\n",
    "query_all_elements2 = prepareQuery('''\n",
    "     SELECT DISTINCT ?x ?y\n",
    "     WHERE\n",
    "{\n",
    "?x <http://group10.com/ontology/tieneCoordenadas> ?y.\n",
    "\n",
    "}\n",
    "'''\n",
    ")    \n",
    "\n",
    "DistritosinCoordenada=[]\n",
    "Dict4={}\n",
    "for r in g.query(query_all_elements2):\n",
    "    if str(r.y)!=\"\":\n",
    "        pass\n",
    "    else:\n",
    "        DistritosinCoordenada.append(str(r.x).replace(path,\"\").replace(\"%20\",\" \"))\n",
    "        \n",
    "for r in g.query(query_all_elements1):\n",
    "    for s in DistritosinCoordenada:\n",
    "        if(str(r.y)==s):\n",
    "            if str(r.y) in Dict4:\n",
    "                Dict4[str(r.y)] += float(r.z)\n",
    "            else:\n",
    "                Dict4[str(r.y)] = float(r.z)\n",
    "Dict4\n"
   ]
  },
  {
   "cell_type": "code",
   "execution_count": 279,
   "metadata": {},
   "outputs": [
    {
     "data": {
      "text/plain": [
       "3290976869.5300007"
      ]
     },
     "execution_count": 279,
     "metadata": {},
     "output_type": "execute_result"
    }
   ],
   "source": [
    "gastosTotales=sum(Dict4.values())\n",
    "gastosTotales"
   ]
  },
  {
   "cell_type": "code",
   "execution_count": null,
   "metadata": {},
   "outputs": [],
   "source": []
  }
 ],
 "metadata": {
  "kernelspec": {
   "display_name": "Python 3",
   "language": "python",
   "name": "python3"
  },
  "language_info": {
   "codemirror_mode": {
    "name": "ipython",
    "version": 3
   },
   "file_extension": ".py",
   "mimetype": "text/x-python",
   "name": "python",
   "nbconvert_exporter": "python",
   "pygments_lexer": "ipython3",
   "version": "3.7.6"
  }
 },
 "nbformat": 4,
 "nbformat_minor": 4
}
