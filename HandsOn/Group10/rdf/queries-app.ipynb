{
 "cells": [
  {
   "cell_type": "code",
   "execution_count": 1,
   "metadata": {},
   "outputs": [
    {
     "name": "stdout",
     "output_type": "stream",
     "text": [
      "Requirement already satisfied: rdflib in c:\\users\\alech\\anaconda3\\lib\\site-packages (5.0.0)\n",
      "Requirement already satisfied: pyparsing in c:\\users\\alech\\anaconda3\\lib\\site-packages (from rdflib) (2.4.7)\n",
      "Requirement already satisfied: isodate in c:\\users\\alech\\anaconda3\\lib\\site-packages (from rdflib) (0.6.0)\n",
      "Requirement already satisfied: six in c:\\users\\alech\\anaconda3\\lib\\site-packages (from rdflib) (1.15.0)\n"
     ]
    }
   ],
   "source": [
    "!pip install rdflib"
   ]
  },
  {
   "cell_type": "code",
   "execution_count": 2,
   "metadata": {},
   "outputs": [
    {
     "data": {
      "text/plain": [
       "<Graph identifier=N7470293665754d4ba99f7c6d90590140 (<class 'rdflib.graph.Graph'>)>"
      ]
     },
     "execution_count": 2,
     "metadata": {},
     "output_type": "execute_result"
    }
   ],
   "source": [
    "from rdflib import Graph, Namespace, Literal\n",
    "from rdflib.namespace import RDF, RDFS\n",
    "g = Graph()\n",
    "\n",
    "g.parse(\"triples_app.nt\", format=\"nt\")\n"
   ]
  },
  {
   "cell_type": "code",
   "execution_count": 3,
   "metadata": {},
   "outputs": [
    {
     "name": "stderr",
     "output_type": "stream",
     "text": [
      "IOPub data rate exceeded.\n",
      "The notebook server will temporarily stop sending output\n",
      "to the client in order to avoid crashing it.\n",
      "To change this limit, set the config variable\n",
      "`--NotebookApp.iopub_data_rate_limit`.\n",
      "\n",
      "Current values:\n",
      "NotebookApp.iopub_data_rate_limit=1000000.0 (bytes/sec)\n",
      "NotebookApp.rate_limit_window=3.0 (secs)\n",
      "\n"
     ]
    }
   ],
   "source": [
    "print(g.serialize(format=\"ttl\").decode(\"UTF-8\"))"
   ]
  },
  {
   "cell_type": "code",
   "execution_count": 3,
   "metadata": {},
   "outputs": [
    {
     "name": "stdout",
     "output_type": "stream",
     "text": [
      "5003170809.079987\n",
      "83823257.49999999\n",
      "48126749.86999999\n",
      "55664901.89999998\n",
      "81081202.75\n",
      "12587452.850000001\n",
      "0.0\n"
     ]
    }
   ],
   "source": [
    "#QUERY TO OBTAIN GASTOS OF EACH CENTRO\n",
    "\n",
    "from rdflib.plugins.sparql import prepareQuery\n",
    "\n",
    "#<http://group10.com/ontology/tieneCentro>\n",
    "\n",
    "\n",
    "\n",
    "from rdflib.plugins.sparql import prepareQuery\n",
    "query_all_elements = prepareQuery('''\n",
    "    SELECT DISTINCT ?z ?y\n",
    "    WHERE\n",
    "    {\n",
    "      ?x <http://www.w3.org/1999/02/22-rdf-syntax-ns#type> <http://group10.com/ontology/Gastos>.\n",
    "      ?x <http://group10.com/ontology/tieneCentro> ?y.\n",
    "      ?x <http://purl.org/cerif/frapo/hasCost> ?z\n",
    "    }\n",
    "  '''\n",
    ")\n",
    "\n",
    "#Empty Values for each Center\n",
    "\n",
    "AyMad = 0\n",
    "MadSal = 0\n",
    "AgEmp = 0\n",
    "AgTri = 0\n",
    "InfMad = 0\n",
    "AgAct = 0\n",
    "ConMad = 0\n",
    "\n",
    "\n",
    "#Calculation\n",
    "\n",
    "for r in g.query(query_all_elements): \n",
    "    if str(r.y) == \"Ayuntamiento de Madrid\":\n",
    "        AyMad += float(r.z)\n",
    "    elif str(r.y) == \"Madrid Salud\":\n",
    "        MadSal += float(r.z)\n",
    "    elif str(r.y) == \"AGENCIA PARA EL EMPLEO DE MADRID\":\n",
    "        AgEmp += float(r.z)\n",
    "    elif str(r.y) == \"AGENCIA TRIBUTARIA  MADRID\":\n",
    "        AgTri += float(r.z)\n",
    "    elif str(r.y) == \"INFORMATICA DEL AYUNTAMIENTO DE MADRID\":\n",
    "        InfMad += float(r.z)\n",
    "    elif str(r.y) == \"AGENCIA DE ACTIVIDADES\":\n",
    "        AgAct += float(r.z)\n",
    "    elif str(r.y == \"CONSOR. PLAN REHAB.EQUIP.TEATROS MADRID\"):\n",
    "        ConMad += float(r.z)\n",
    "    else:\n",
    "        Print(\"Missing\")\n",
    "        \n",
    "\n",
    "print(AyMad)\n",
    "print(MadSal)\n",
    "print(AgEmp)\n",
    "print(AgTri)\n",
    "print(InfMad)\n",
    "print(AgAct) \n",
    "print(ConMad)"
   ]
  },
  {
   "cell_type": "code",
   "execution_count": 4,
   "metadata": {},
   "outputs": [
    {
     "name": "stdout",
     "output_type": "stream",
     "text": [
      "['Ayuntamiento de Madrid', 'AGENCIA PARA EL EMPLEO DE MADRID', 'Madrid Salud', 'AGENCIA DE ACTIVIDADES', 'INFORMATICA DEL AYUNTAMIENTO DE MADRID', 'AGENCIA TRIBUTARIA  MADRID', 'CONSOR. PLAN REHAB.EQUIP.TEATROS MADRID']\n"
     ]
    }
   ],
   "source": [
    "Centros=[]   #Obtain a list with all centros, not necesary\n",
    "for r in g.query(query_all_elements): \n",
    "    if str(r.y) in Centros:\n",
    "        pass\n",
    "    else:\n",
    "        Centros.append(str(r.y))\n",
    "        \n",
    "print(Centros)\n",
    "\n",
    "\n",
    "\n",
    "\n"
   ]
  },
  {
   "cell_type": "code",
   "execution_count": 7,
   "metadata": {},
   "outputs": [
    {
     "name": "stdout",
     "output_type": "stream",
     "text": [
      "['HACIENDA Y PERSONAL', 'PARTICIP.CIUDADANA,TRANSP. Y GOB.ABIERTO', 'OBRAS Y EQUIPAMIENTOS', 'Puente de Vallecas', 'Moncloa-Aravaca', 'PORTAVOZ, SEGURIDAD Y EMERGENCIAS', 'MEDIO AMBIENTE Y MOVILIDAD', 'Moratalaz', 'A.D. EMPRENDIMIENTO, EMPLEO E INNOVACION', 'VICEALCALDIA', 'A.D. INTERNACIONALIZACION Y COOPERACION', 'CULTURA, TURISMO Y DEPORTE', 'PRESIDENCIA DEL PLENO', 'Vicalvaro', 'San Blas-Canillejas', 'Salamanca', 'Chamberi', 'Centro', 'Ciudad Lineal', 'planeamiento urbanistico', 'ECONOMIA, INNOVACION Y EMPLEO', 'Retiro', 'Usera', 'FAMILIAS, IGUALDAD Y BIENESTAR SOCIAL', 'A.D. COORD.TERRIT., TRANSP. Y PART.CIUD.', 'POLITICAS DE GENERO Y DIVERSIDAD', 'Arganzuela', 'AREA DELEGADA DEPORTE', 'Villa de Vallecas', 'Chamartin', 'Latina', 'COORDINACION GENERAL DE LA ALCALDIA', 'Villaverde', 'Barajas', 'Tetuan', 'GERENCIA DE LA CIUDAD', 'Carabanchel', 'COORD. TERRITORIAL Y COOP. PUBLICO-SOCIAL', 'Fuencarral-El Pardo', 'PORTAVOZ, COORD. JUNTA GOB. Y REL. PLENO', 'Hortaleza', 'AREA DELEGADA VIVIENDA', 'ALCALDIA', 'OF. MPAL. CONTRA FRAUDE Y CORRUPCION', 'TRIBUNAL ECONOMICO-ADMINISTRATIVO', 'ENDEUDAMIENTO', 'AREA DELEGADA TURISMO', 'CREDITOS GLOBALES Y FONDO CONTINGENCIA']\n"
     ]
    }
   ],
   "source": [
    "print(Sections)"
   ]
  },
  {
   "cell_type": "code",
   "execution_count": 55,
   "metadata": {},
   "outputs": [
    {
     "name": "stdout",
     "output_type": "stream",
     "text": [
      "hey 57943993.35999996\n",
      "57943993.35999996\n",
      "32060067.1\n",
      "25235086.720000006\n",
      "23636289.109999996\n",
      "32585893.22999999\n",
      "18997209.259999994\n",
      "16950983.759999994\n",
      "5080078027.500001\n",
      "0\n",
      "0\n",
      "0\n",
      "0\n",
      "0\n",
      "0\n",
      "0\n",
      "0\n",
      "0\n",
      "0\n",
      "0\n",
      "0\n",
      "0\n",
      "0\n"
     ]
    }
   ],
   "source": [
    "\n",
    "\n",
    "from rdflib.plugins.sparql import prepareQuery\n",
    "\n",
    "#<http://group10.com/ontology/tieneCentro>\n",
    "\n",
    "######## NEED CHANGE IN SECCION FROM PROPERTY TO CLASS\n",
    "\n",
    "\n",
    "from rdflib.plugins.sparql import prepareQuery\n",
    "query_all_elements = prepareQuery('''\n",
    "    SELECT DISTINCT ?z ?y\n",
    "    WHERE\n",
    "    {\n",
    "      ?x <http://group10.com/ontology/tieneSeccion> ?y.\n",
    "      ?x <http://purl.org/cerif/frapo/hasCost> ?z\n",
    "    }\n",
    "  '''\n",
    ")\n",
    "#Empty Values for each Section\n",
    "\n",
    "Puente_Vallecas = 0\n",
    "Moncloa_Aravaca = 0\n",
    "Moratalaz = 0\n",
    "Vicalvaro = 0\n",
    "San_Blas = 0\n",
    "Salamanca = 0\n",
    "Chamberi = 0\n",
    "Centro = 0\n",
    "Ciudad_Lineal = 0\n",
    "Retiro = 0\n",
    "Usera = 0\n",
    "Arganzuela = 0\n",
    "Villa_Vallecas = 0\n",
    "Chamartin = 0\n",
    "Latina = 0\n",
    "Villaverde = 0\n",
    "Barajas = 0\n",
    "Tetuan = 0\n",
    "Carabanchel = 0\n",
    "Fuencarral = 0\n",
    "Hortaleza = 0\n",
    "Resto = 0\n",
    "\n",
    "Ozo=0\n",
    "Counter= 0\n",
    "#Calculation\n",
    "for r in g.query(query_all_elements): \n",
    "    if str(r.y) == \"Puente de Vallecas\":\n",
    "        Ozo += float(r.z)\n",
    "print(\"hey \" + str(Ozo))\n",
    "    \n",
    "for r in g.query(query_all_elements): \n",
    "    Counter+=1\n",
    "    if str(r.y) == \"Puente de Vallecas\":\n",
    "        Puente_Vallecas += float(r.z)\n",
    "    \n",
    "    elif str(r.y) == \"Moncloa-Aravaca\":\n",
    "        Moncloa_Aravaca += float(r.z)\n",
    "    \n",
    "    elif str(r.y) == \"Moratalaz\":\n",
    "        Moratalaz += float(r.z)\n",
    "    \n",
    "    elif str(r.y) == \"Vicalvaro\":\n",
    "        Vicalvaro += float(r.z)\n",
    "    \n",
    "    elif str(r.y) == \"San Blas-Canillejas\":\n",
    "        San_Blas += float(r.z)\n",
    "    \n",
    "    elif str(r.y) == \"Salamanca\":\n",
    "        Salamanca += float(r.z)\n",
    "    \n",
    "    elif str(r.y) == \"Chamberi\":\n",
    "        Chamberi += float(r.z)\n",
    "    \n",
    "    elif str(r.y == \"Centro\"):\n",
    "        Centro += float(r.z)\n",
    "    \n",
    "    elif str(r.y == \"Ciudad Lineal\"):\n",
    "        Ciudad_Lineal += float(r.z)\n",
    "    \n",
    "    elif str(r.y == \"Retiro\"):\n",
    "        Retiro += float(r.z)\n",
    "    \n",
    "    elif str(r.y == \"Usera\"):\n",
    "        Usera += float(r.z)\n",
    "    \n",
    "    elif str(r.y == \"Arganzuela\"):\n",
    "        Arganzuela += float(r.z)\n",
    "    \n",
    "    elif str(r.y == \"Villa de Vallecas\"):\n",
    "        Villa_Vallecas += float(r.z)\n",
    "    \n",
    "    elif str(r.y == \"Chamartin\"):\n",
    "        Chamartin += float(r.z)\n",
    "    \n",
    "    elif str(r.y == \"Latina\"):\n",
    "        Latina += float(r.z)\n",
    "    \n",
    "    elif str(r.y == \"Villaverde\"):\n",
    "        Villaverde += float(r.z)\n",
    "    \n",
    "    elif str(r.y == \"Barajas\"):\n",
    "        Barajas += float(r.z)\n",
    "    \n",
    "    elif str(r.y == \"Tetuan\"):\n",
    "        Tetuan += float(r.z)\n",
    "    \n",
    "    elif str(r.y == \"Carabanchel\"):\n",
    "        Carabanchel += float(r.z)\n",
    "    \n",
    "    elif str(r.y == \"Fuencarral-El Pardo\"):\n",
    "        Fuencarral += float(r.z) \n",
    "    \n",
    "    elif str(r.y == \"Hortaleza\"):\n",
    "        Hortaleza += float(r.z)\n",
    "    \n",
    "    else:\n",
    "        Resto += float(r.z)\n",
    "        \n",
    "print(Puente_Vallecas)\n",
    "print(Moncloa_Aravaca)\n",
    "print(Moratalaz)\n",
    "print(Vicalvaro)\n",
    "print(San_Blas)\n",
    "print(Salamanca)\n",
    "print(Chamberi)\n",
    "print(Centro)\n",
    "print(Ciudad_Lineal)\n",
    "print(Retiro)\n",
    "print(Usera)\n",
    "print(Arganzuela)\n",
    "print(Villa_Vallecas)\n",
    "print(Chamartin)\n",
    "print(Latina)\n",
    "print(Villaverde)\n",
    "print(Barajas)\n",
    "print(Tetuan)\n",
    "print(Carabanchel)\n",
    "print(Fuencarral)\n",
    "print(Hortaleza)\n",
    "print(Resto)       \n",
    "\n",
    "\n",
    "        \n",
    "\n",
    "\n",
    "\n"
   ]
  },
  {
   "cell_type": "code",
   "execution_count": null,
   "metadata": {},
   "outputs": [],
   "source": []
  },
  {
   "cell_type": "code",
   "execution_count": null,
   "metadata": {},
   "outputs": [],
   "source": [
    "Sections=[]   #Obtain a list with all centros, not necesary\n",
    "for r in g.query(query_all_elements): \n",
    "    if str(r.y) in Sections:\n",
    "        pass\n",
    "    else:\n",
    "        Sections.append(str(r.y))\n",
    "        \n",
    "print(Sections)"
   ]
  },
  {
   "cell_type": "code",
   "execution_count": null,
   "metadata": {},
   "outputs": [],
   "source": [
    "descripcion = Namespace(\"https://dublincore.org/specifications/dublin-core/dcmi-terms/#\")\n",
    "owl = Namespace(\"http://www.w3.org/2002/07/owl#\")\n",
    "wdt = Namespace(\"http://www.wikidata.org/prop/direct/\")\n",
    "wd = Namespace(\"http://www.wikidata.org/entity/\")\n",
    "wikibase = Namespace(\"http://wikiba.se/ontology#\")\n",
    "bd = Namespace(\"http://www.bigdata.com/rdf#\")\n",
    "\n",
    "# https://janakiev.com/blog/wikidata-mayors/\n",
    "# https://wiki.uib.no/info216/index.php/Python_Examples\n",
    "\n",
    "query = prepareQuery('''\n",
    "    SELECT DISTINCT ?x ?z ?y ?a\n",
    "    WHERE\n",
    "    {\n",
    "      ?x owl:sameAs ?y.\n",
    "      ?x descripcion:description ?z.\n",
    "      #?y rdfs:label ?a\n",
    "      #?y wdt:P625 ?a.\n",
    "      \n",
    "      #SERVICE wikibase:label { bd:serviceParam wikibase:language \"es\". }\n",
    "    }\n",
    "    ''',\n",
    "  initNs = { \"owl\" : owl, \"descripcion\": descripcion, \"wdt\" : wdt, \"wd\" : wd, \"wikibase\" : wikibase, \"bd\" : bd }\n",
    ")\n",
    "\n",
    "for r in g.query(query): \n",
    "    print(str(r.x) + \" - \" + str(r.z) + \" - \" + str(r.y) + \" - \" + str(r.a))"
   ]
  }
 ],
 "metadata": {
  "kernelspec": {
   "display_name": "Python 3",
   "language": "python",
   "name": "python3"
  },
  "language_info": {
   "codemirror_mode": {
    "name": "ipython",
    "version": 3
   },
   "file_extension": ".py",
   "mimetype": "text/x-python",
   "name": "python",
   "nbconvert_exporter": "python",
   "pygments_lexer": "ipython3",
   "version": "3.7.4"
  }
 },
 "nbformat": 4,
 "nbformat_minor": 4
}
