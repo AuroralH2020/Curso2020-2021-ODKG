{
 "cells": [
  {
   "cell_type": "code",
   "execution_count": 1,
   "metadata": {},
   "outputs": [
    {
     "name": "stdout",
     "output_type": "stream",
     "text": [
      "Requirement already satisfied: rdflib in c:\\users\\alech\\anaconda3\\lib\\site-packages (5.0.0)\n",
      "Requirement already satisfied: six in c:\\users\\alech\\anaconda3\\lib\\site-packages (from rdflib) (1.15.0)\n",
      "Requirement already satisfied: isodate in c:\\users\\alech\\anaconda3\\lib\\site-packages (from rdflib) (0.6.0)\n",
      "Requirement already satisfied: pyparsing in c:\\users\\alech\\anaconda3\\lib\\site-packages (from rdflib) (2.4.7)\n"
     ]
    }
   ],
   "source": [
    "!pip install rdflib"
   ]
  },
  {
   "cell_type": "code",
   "execution_count": 27,
   "metadata": {},
   "outputs": [
    {
     "data": {
      "text/plain": [
       "<Graph identifier=Nc25e5904d6044dd79b41916c9240913b (<class 'rdflib.graph.Graph'>)>"
      ]
     },
     "execution_count": 27,
     "metadata": {},
     "output_type": "execute_result"
    }
   ],
   "source": [
    "from rdflib import Graph, Namespace, Literal\n",
    "from rdflib.namespace import RDF, RDFS\n",
    "g = Graph()\n",
    "\n",
    "g.parse(\"triples-vocabulary-with-links.nt\", format=\"nt\")\n"
   ]
  },
  {
   "cell_type": "code",
   "execution_count": 3,
   "metadata": {},
   "outputs": [
    {
     "name": "stderr",
     "output_type": "stream",
     "text": [
      "IOPub data rate exceeded.\n",
      "The notebook server will temporarily stop sending output\n",
      "to the client in order to avoid crashing it.\n",
      "To change this limit, set the config variable\n",
      "`--NotebookApp.iopub_data_rate_limit`.\n",
      "\n",
      "Current values:\n",
      "NotebookApp.iopub_data_rate_limit=1000000.0 (bytes/sec)\n",
      "NotebookApp.rate_limit_window=3.0 (secs)\n",
      "\n"
     ]
    }
   ],
   "source": [
    "print(g.serialize(format=\"ttl\").decode(\"UTF-8\"))"
   ]
  },
  {
   "cell_type": "code",
   "execution_count": 28,
   "metadata": {},
   "outputs": [
    {
     "name": "stdout",
     "output_type": "stream",
     "text": [
      "5003170809.08\n",
      "83823257.5\n",
      "48126749.870000005\n",
      "55664901.9\n",
      "81081202.74999999\n",
      "12587452.850000001\n",
      "0.0\n"
     ]
    }
   ],
   "source": [
    "\n",
    "from rdflib.plugins.sparql import prepareQuery\n",
    "\n",
    "#<http://group10.com/ontology/tieneCentro>\n",
    "\n",
    "\n",
    "\n",
    "from rdflib.plugins.sparql import prepareQuery\n",
    "query_all_elements = prepareQuery('''\n",
    "    SELECT DISTINCT ?z ?y\n",
    "    WHERE\n",
    "    {\n",
    "      ?x <http://www.w3.org/1999/02/22-rdf-syntax-ns#type> <http://group10.com/ontology/Gastos>.\n",
    "      ?x <http://group10.com/ontology/tieneCentro> ?y.\n",
    "      ?x <http://purl.org/cerif/frapo/hasCost> ?z\n",
    "    }\n",
    "  '''\n",
    ")\n",
    "\n",
    "#Empty Values for each Center\n",
    "\n",
    "AyMad = 0\n",
    "MadSal = 0\n",
    "AgEmp = 0\n",
    "AgTri = 0\n",
    "InfMad = 0\n",
    "AgAct = 0\n",
    "ConMad = 0\n",
    "\n",
    "\n",
    "#Calculation\n",
    "\n",
    "for r in g.query(query_all_elements): \n",
    "    if str(r.y) == \"Ayuntamiento de Madrid\":\n",
    "        AyMad += float(r.z)\n",
    "    elif str(r.y) == \"Madrid Salud\":\n",
    "        MadSal += float(r.z)\n",
    "    elif str(r.y) == \"AGENCIA PARA EL EMPLEO DE MADRID\":\n",
    "        AgEmp += float(r.z)\n",
    "    elif str(r.y) == \"AGENCIA TRIBUTARIA  MADRID\":\n",
    "        AgTri += float(r.z)\n",
    "    elif str(r.y) == \"INFORMATICA DEL AYUNTAMIENTO DE MADRID\":\n",
    "        InfMad += float(r.z)\n",
    "    elif str(r.y) == \"AGENCIA DE ACTIVIDADES\":\n",
    "        AgAct += float(r.z)\n",
    "    elif str(r.y == \"CONSOR. PLAN REHAB.EQUIP.TEATROS MADRID\"):\n",
    "        ConMad += float(r.z)\n",
    "    else:\n",
    "        Print(\"Missing\")\n",
    "        \n",
    "\n",
    "print(AyMad)\n",
    "print(MadSal)\n",
    "print(AgEmp)\n",
    "print(AgTri)\n",
    "print(InfMad)\n",
    "print(AgAct) \n",
    "print(ConMad)"
   ]
  },
  {
   "cell_type": "code",
   "execution_count": 22,
   "metadata": {},
   "outputs": [
    {
     "name": "stdout",
     "output_type": "stream",
     "text": [
      "['Ayuntamiento de Madrid', 'Madrid Salud', 'AGENCIA PARA EL EMPLEO DE MADRID', 'AGENCIA TRIBUTARIA  MADRID', 'INFORMATICA DEL AYUNTAMIENTO DE MADRID', 'AGENCIA DE ACTIVIDADES', 'CONSOR. PLAN REHAB.EQUIP.TEATROS MADRID']\n"
     ]
    }
   ],
   "source": [
    "Centros=[]   #Obtain a list with all centros, not necesary\n",
    "for r in g.query(query_all_elements): \n",
    "    if str(r.y) in Centros:\n",
    "        pass\n",
    "    else:\n",
    "        Centros.append(str(r.y))\n",
    "        \n",
    "print(Centros)\n",
    "\n",
    "\n",
    "\n",
    "\n"
   ]
  },
  {
   "cell_type": "code",
   "execution_count": null,
   "metadata": {},
   "outputs": [],
   "source": []
  }
 ],
 "metadata": {
  "kernelspec": {
   "display_name": "Python 3",
   "language": "python",
   "name": "python3"
  },
  "language_info": {
   "codemirror_mode": {
    "name": "ipython",
    "version": 3
   },
   "file_extension": ".py",
   "mimetype": "text/x-python",
   "name": "python",
   "nbconvert_exporter": "python",
   "pygments_lexer": "ipython3",
   "version": "3.7.4"
  }
 },
 "nbformat": 4,
 "nbformat_minor": 4
}
