{
 "cells": [
  {
   "cell_type": "code",
   "execution_count": null,
   "metadata": {},
   "outputs": [],
   "source": [
    "#!pip install rdflib \n",
    "github_storage"
   ]
  },
  {
   "cell_type": "code",
   "execution_count": null,
   "metadata": {},
   "outputs": [],
   "source": [
    "from rdflib import Graph, Namespace, Literal\n",
    "from rdflib.namespace import RDF, RDFS\n",
    "g = Graph()\n",
    "\n",
    "g.parse(github_storage+\"/resources/example6.rdf\", format=\"xml\")"
   ]
  },
  {
   "cell_type": "code",
   "execution_count": null,
   "metadata": {},
   "outputs": [],
   "source": [
    "#See all classes\n",
    "\n",
    "ns = Namespace(\"\")\n",
    "\n",
    "from rdflib.plugins.sparql import prepareQuery\n",
    "q1 = prepareQuery('''\n",
    "    SELECT DISTINCT ?y\n",
    "    WHERE\n",
    "    {\n",
    "      ?x rdf:type ?y\n",
    "    }\n",
    "  ''',\n",
    "  initNs = { \"ns\": ns}\n",
    ")\n",
    "\n",
    "\n",
    "for r in g.query(q1):\n",
    "  print(r)"
   ]
  },
  {
   "cell_type": "code",
   "execution_count": null,
   "metadata": {},
   "outputs": [],
   "source": [
    "#Count classes\n",
    "\n",
    "ns = Namespace(\"\")\n",
    "\n",
    "from rdflib.plugins.sparql import prepareQuery\n",
    "q2 = prepareQuery('''\n",
    "    SELECT COUNT(DISTINCT ?z)\n",
    "    WHERE\n",
    "    {\n",
    "      ?x rdf:type ?z\n",
    "    }\n",
    "  ''',\n",
    "  initNs = { \"ns\": ns}\n",
    ")\n",
    "\n",
    "\n",
    "for r in g.query(q2):\n",
    "  print(r)"
   ]
  },
  {
   "cell_type": "code",
   "execution_count": null,
   "metadata": {},
   "outputs": [],
   "source": [
    "#Instances that belong to certain class\n",
    "\n",
    "ns = Namespace(\"\")\n",
    "\n",
    "from rdflib.plugins.sparql import prepareQuery\n",
    "q3 = prepareQuery('''\n",
    "    SELECT DISTINCT ?x\n",
    "    WHERE\n",
    "    {\n",
    "      ?x rdf:type <CLASS NAME>\n",
    "    }\n",
    "  ''',\n",
    "  initNs = { \"ns\": ns}\n",
    ")\n",
    "\n",
    "\n",
    "for r in g.query(q3):\n",
    "  print(r)"
   ]
  },
  {
   "cell_type": "code",
   "execution_count": null,
   "metadata": {},
   "outputs": [],
   "source": [
    "#Properties and possible values of a certain class\n",
    "\n",
    "ns = Namespace(\"\")\n",
    "\n",
    "from rdflib.plugins.sparql import prepareQuery\n",
    "q4 = prepareQuery('''\n",
    "    SELECT DISTINCT ?prop ?y\n",
    "\n",
    "    WHERE {\n",
    "     ?x rdf:type <CLASS NAME>. \n",
    "     ?x ?prop ?y\n",
    "     } \n",
    "\n",
    "  ''',\n",
    "  initNs = { \"ns\": ns}\n",
    ")\n",
    "\n",
    "\n",
    "for r in g.query(q4):\n",
    "  print(r)"
   ]
  },
  {
   "cell_type": "code",
   "execution_count": null,
   "metadata": {},
   "outputs": [],
   "source": [
    "#Example of values\n",
    "\n",
    "ns = Namespace(\"\")\n",
    "\n",
    "from rdflib.plugins.sparql import prepareQuery\n",
    "q5 = prepareQuery('''\n",
    "    SELECT DISTINCT ?x ?y\n",
    "    WHERE\n",
    "    {\n",
    "      ?x rdf:type <INGRESOS>.\n",
    "      ?x <PREVISIONINGRESOS> ?y\n",
    "      FILTER (?y > QUANTITIE)\n",
    "\n",
    "    }\n",
    "\n",
    "  ''',\n",
    "  initNs = { \"ns\": ns}\n",
    ")\n",
    "\n",
    "\n",
    "for r in g.query(q5):\n",
    "  print(r)"
   ]
  },
  {
   "cell_type": "code",
   "execution_count": null,
   "metadata": {},
   "outputs": [],
   "source": [
    "\n"
   ]
  },
  {
   "cell_type": "code",
   "execution_count": null,
   "metadata": {},
   "outputs": [],
   "source": []
  }
 ],
 "metadata": {
  "kernelspec": {
   "display_name": "Python 3",
   "language": "python",
   "name": "python3"
  },
  "language_info": {
   "codemirror_mode": {
    "name": "ipython",
    "version": 3
   },
   "file_extension": ".py",
   "mimetype": "text/x-python",
   "name": "python",
   "nbconvert_exporter": "python",
   "pygments_lexer": "ipython3",
   "version": "3.7.4"
  }
 },
 "nbformat": 4,
 "nbformat_minor": 4
}
