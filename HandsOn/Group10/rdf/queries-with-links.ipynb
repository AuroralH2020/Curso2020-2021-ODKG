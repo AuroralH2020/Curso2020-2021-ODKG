{
 "cells": [
  {
   "cell_type": "code",
   "execution_count": 1,
   "metadata": {},
   "outputs": [
    {
     "name": "stdout",
     "output_type": "stream",
     "text": [
      "Requirement already satisfied: rdflib in c:\\users\\marti\\anaconda3\\lib\\site-packages (5.0.0)\n",
      "Requirement already satisfied: six in c:\\users\\marti\\anaconda3\\lib\\site-packages (from rdflib) (1.12.0)\n",
      "Requirement already satisfied: isodate in c:\\users\\marti\\anaconda3\\lib\\site-packages (from rdflib) (0.6.0)\n",
      "Requirement already satisfied: pyparsing in c:\\users\\marti\\anaconda3\\lib\\site-packages (from rdflib) (2.4.0)\n"
     ]
    }
   ],
   "source": [
    "!pip install rdflib"
   ]
  },
  {
   "cell_type": "code",
   "execution_count": 2,
   "metadata": {},
   "outputs": [
    {
     "data": {
      "text/plain": [
       "<Graph identifier=Ne3b992eef95d4e418b59785ac865f2ec (<class 'rdflib.graph.Graph'>)>"
      ]
     },
     "execution_count": 2,
     "metadata": {},
     "output_type": "execute_result"
    }
   ],
   "source": [
    "from rdflib import Graph, Namespace, Literal\n",
    "from rdflib.namespace import RDF, RDFS\n",
    "g = Graph()\n",
    "example = Graph()\n",
    "\n",
    "example.parse(\"triples.nt\", format=\"nt\")\n",
    "#g.parse(\"triples-with-links.nt\", format=\"nt\")\n"
   ]
  },
  {
   "cell_type": "code",
   "execution_count": 6,
   "metadata": {},
   "outputs": [
    {
     "name": "stdout",
     "output_type": "stream",
     "text": [
      "\n",
      "\n"
     ]
    }
   ],
   "source": [
    "print(g.serialize(format=\"ttl\").decode(\"UTF-8\"))"
   ]
  },
  {
   "cell_type": "code",
   "execution_count": 7,
   "metadata": {},
   "outputs": [
    {
     "name": "stderr",
     "output_type": "stream",
     "text": [
      "IOPub data rate exceeded.\n",
      "The notebook server will temporarily stop sending output\n",
      "to the client in order to avoid crashing it.\n",
      "To change this limit, set the config variable\n",
      "`--NotebookApp.iopub_data_rate_limit`.\n",
      "\n",
      "Current values:\n",
      "NotebookApp.iopub_data_rate_limit=1000000.0 (bytes/sec)\n",
      "NotebookApp.rate_limit_window=3.0 (secs)\n",
      "\n"
     ]
    }
   ],
   "source": [
    "print(example.serialize(format=\"ttl\").decode(\"UTF-8\"))"
   ]
  },
  {
   "cell_type": "markdown",
   "metadata": {},
   "source": [
    "# Show all the elements of the ontology, including the class to each one belongs to:"
   ]
  },
  {
   "cell_type": "code",
   "execution_count": 13,
   "metadata": {},
   "outputs": [],
   "source": [
    "from rdflib.plugins.sparql import prepareQuery\n",
    "query_all_elements = prepareQuery('''\n",
    "    SELECT DISTINCT ?x ?y\n",
    "    WHERE\n",
    "    {\n",
    "      ?x rdf:type ?y\n",
    "    }\n",
    "  '''\n",
    ")\n",
    "\n",
    "for r in g.query(query_all_elements):\n",
    "  print(\"Element: \" + str(r.x) + \" -  Class: \" + str(r.y))"
   ]
  },
  {
   "cell_type": "markdown",
   "metadata": {},
   "source": [
    "# See all the classes of the ontology:"
   ]
  },
  {
   "cell_type": "code",
   "execution_count": 4,
   "metadata": {},
   "outputs": [],
   "source": [
    "from rdflib.plugins.sparql import prepareQuery\n",
    "\n",
    "owl = Namespace(\"http://www.w3.org/2002/07/owl#\")\n",
    "\n",
    "\n",
    "query_class = prepareQuery('''\n",
    "    SELECT DISTINCT ?x\n",
    "    WHERE\n",
    "    {\n",
    "      ?x a owl:Class\n",
    "    }\n",
    "  ''',\n",
    "  initNs = { \"owl\": owl }\n",
    ")\n",
    "\n",
    "\n",
    "for r in example.query(query_class):\n",
    "  print(r.x)"
   ]
  },
  {
   "cell_type": "markdown",
   "metadata": {},
   "source": [
    "# See all the instances of the example:"
   ]
  },
  {
   "cell_type": "code",
   "execution_count": 11,
   "metadata": {},
   "outputs": [],
   "source": [
    "query_instances = prepareQuery('''\n",
    "    SELECT DISTINCT ?x\n",
    "    WHERE\n",
    "    {\n",
    "      ?x a ?y.\n",
    "      ?y a owl:Class.\n",
    "    }\n",
    "  ''',\n",
    "  initNs = { \"owl\": owl }\n",
    ")\n",
    "\n",
    "for r in example.query(query_instances):\n",
    "  print(r.x)"
   ]
  },
  {
   "cell_type": "markdown",
   "metadata": {},
   "source": [
    "# See all IRIs"
   ]
  },
  {
   "cell_type": "code",
   "execution_count": 5,
   "metadata": {},
   "outputs": [],
   "source": [
    "query_iris = prepareQuery('''        \n",
    "    SELECT DISTINCT ?x\n",
    "    WHERE\n",
    "    {\n",
    "      ?x a owl:sameAs\n",
    "    }\n",
    "  ''',\n",
    "  initNs = { \"owl\": owl }\n",
    ")\n",
    "\n",
    "for r in example.query(query_iris):\n",
    "  print(r.x)"
   ]
  }
 ],
 "metadata": {
  "kernelspec": {
   "display_name": "Python 3",
   "language": "python",
   "name": "python3"
  },
  "language_info": {
   "codemirror_mode": {
    "name": "ipython",
    "version": 3
   },
   "file_extension": ".py",
   "mimetype": "text/x-python",
   "name": "python",
   "nbconvert_exporter": "python",
   "pygments_lexer": "ipython3",
   "version": "3.7.3"
  }
 },
 "nbformat": 4,
 "nbformat_minor": 4
}
