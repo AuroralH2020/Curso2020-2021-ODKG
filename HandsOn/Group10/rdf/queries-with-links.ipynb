{
 "cells": [
  {
   "cell_type": "code",
   "execution_count": null,
   "metadata": {},
   "outputs": [],
   "source": [
    "!pip install rdflib"
   ]
  },
  {
   "cell_type": "code",
   "execution_count": null,
   "metadata": {},
   "outputs": [],
   "source": [
    "from rdflib import Graph, Namespace, Literal\n",
    "from rdflib.namespace import RDF, RDFS\n",
    "g = Graph()\n",
    "example = Graph()\n",
    "\n",
    "g.parse(\"../ontology/Presupuesto_Ayuntamiento_Madrid.ttl\", format=\"ttl\")\n",
    "example.parse(\"../ontology/example.ttl\", format=\"ttl\")"
   ]
  },
  {
   "cell_type": "code",
   "execution_count": null,
   "metadata": {},
   "outputs": [],
   "source": [
    "print(g.serialize(format=\"ttl\").decode(\"UTF-8\"))"
   ]
  },
  {
   "cell_type": "code",
   "execution_count": null,
   "metadata": {},
   "outputs": [],
   "source": [
    "print(example.serialize(format=\"ttl\").decode(\"UTF-8\"))"
   ]
  },
  {
   "cell_type": "markdown",
   "metadata": {},
   "source": [
    "# Show all the elements of the ontology, including the class to each one belongs to:"
   ]
  },
  {
   "cell_type": "code",
   "execution_count": null,
   "metadata": {},
   "outputs": [],
   "source": [
    "from rdflib.plugins.sparql import prepareQuery\n",
    "query_all_elements = prepareQuery('''\n",
    "    SELECT DISTINCT ?x ?y\n",
    "    WHERE\n",
    "    {\n",
    "      ?x rdf:type ?y\n",
    "    }\n",
    "  '''\n",
    ")\n",
    "\n",
    "for r in g.query(query_all_elements):\n",
    "  print(\"Element: \" + str(r.x) + \" -  Class: \" + str(r.y))"
   ]
  },
  {
   "cell_type": "markdown",
   "metadata": {},
   "source": [
    "# See all the classes of the ontology:"
   ]
  },
  {
   "cell_type": "code",
   "execution_count": null,
   "metadata": {},
   "outputs": [],
   "source": [
    "from rdflib.plugins.sparql import prepareQuery\n",
    "\n",
    "owl = Namespace(\"http://www.w3.org/2002/07/owl#\")\n",
    "\n",
    "\n",
    "query_class = prepareQuery('''\n",
    "    SELECT DISTINCT ?x\n",
    "    WHERE\n",
    "    {\n",
    "      ?x a owl:Class\n",
    "    }\n",
    "  ''',\n",
    "  initNs = { \"owl\": owl }\n",
    ")\n",
    "\n",
    "\n",
    "for r in g.query(query_class):\n",
    "  print(r.x)"
   ]
  },
  {
   "cell_type": "markdown",
   "metadata": {},
   "source": [
    "# See all the instances of the example:"
   ]
  },
  {
   "cell_type": "code",
   "execution_count": null,
   "metadata": {},
   "outputs": [],
   "source": [
    "query_instances = prepareQuery('''\n",
    "    SELECT DISTINCT ?x\n",
    "    WHERE\n",
    "    {\n",
    "      ?x a ?y.\n",
    "      ?y a owl:Class.\n",
    "    }\n",
    "  ''',\n",
    "  initNs = { \"owl\": owl }\n",
    ")\n",
    "\n",
    "for r in example.query(query_instances):\n",
    "  print(r.x)"
   ]
  },
  {
   "cell_type": "markdown",
   "metadata": {},
   "source": [
    "# See all IRIs"
   ]
  },
  {
   "cell_type": "code",
   "execution_count": null,
   "metadata": {},
   "outputs": [],
   "source": [
    "query_iris = prepareQuery('''        \n",
    "    SELECT DISTINCT ?x\n",
    "    WHERE\n",
    "    {\n",
    "      ?x a owl:sameAs\n",
    "    }\n",
    "  ''',\n",
    "  initNs = { \"owl\": owl }\n",
    ")\n",
    "\n",
    "for r in example.query(query_iris):\n",
    "  print(r.x)"
   ]
  }
 ],
 "metadata": {
  "kernelspec": {
   "display_name": "Python 3",
   "language": "python",
   "name": "python3"
  },
  "language_info": {
   "codemirror_mode": {
    "name": "ipython",
    "version": 3
   },
   "file_extension": ".py",
   "mimetype": "text/x-python",
   "name": "python",
   "nbconvert_exporter": "python",
   "pygments_lexer": "ipython3",
   "version": "3.7.4"
  }
 },
 "nbformat": 4,
 "nbformat_minor": 4
}
